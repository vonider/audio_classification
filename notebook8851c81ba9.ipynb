{
 "cells": [
  {
   "cell_type": "code",
   "execution_count": 11,
   "metadata": {
    "_cell_guid": "b1076dfc-b9ad-4769-8c92-a6c4dae69d19",
    "_uuid": "8f2839f25d086af736a60e9eeb907d3b93b6e0e5",
    "execution": {
     "iopub.execute_input": "2022-06-27T12:03:56.556421Z",
     "iopub.status.busy": "2022-06-27T12:03:56.556053Z",
     "iopub.status.idle": "2022-06-27T12:03:56.562872Z",
     "shell.execute_reply": "2022-06-27T12:03:56.561639Z",
     "shell.execute_reply.started": "2022-06-27T12:03:56.556390Z"
    }
   },
   "outputs": [],
   "source": [
    "import os\n",
    "import numpy as np\n",
    "import cv2\n",
    "import torch\n",
    "import torch.optim as optim\n",
    "from torchvision.models.mobilenet import mobilenet_v2\n",
    "from torch.utils.data import DataLoader, Dataset\n",
    "from torch.optim.lr_scheduler import StepLR\n",
    "from torch.nn import CrossEntropyLoss\n",
    "import pandas as pd\n",
    "import albumentations as A\n",
    "from albumentations.pytorch import ToTensorV2\n",
    "from sklearn import preprocessing"
   ]
  },
  {
   "cell_type": "code",
   "execution_count": 12,
   "metadata": {
    "execution": {
     "iopub.execute_input": "2022-06-27T12:03:56.578611Z",
     "iopub.status.busy": "2022-06-27T12:03:56.578054Z",
     "iopub.status.idle": "2022-06-27T12:03:56.587004Z",
     "shell.execute_reply": "2022-06-27T12:03:56.585683Z",
     "shell.execute_reply.started": "2022-06-27T12:03:56.578573Z"
    }
   },
   "outputs": [],
   "source": [
    "class DatasetSpec(Dataset):\n",
    "    \n",
    "    def __init__(self, data, root_path, transform=None):\n",
    "        self.data = data\n",
    "        self.root_path = root_path\n",
    "        self.transform = transform\n",
    "        \n",
    "    def __len__(self):\n",
    "        return len(self.data)\n",
    "    \n",
    "    def __getitem__(self, index):\n",
    "        image_path = os.path.join(self.root_path, self.data.loc[index, 'id'])\n",
    "        image = cv2.imread(image_path)\n",
    "        label = self.data.loc[index, 'answer']\n",
    "        \n",
    "        if self.transform is not None:\n",
    "            aug = self.transform(image=image)\n",
    "            image = aug['image']\n",
    "        \n",
    "        return image, label"
   ]
  },
  {
   "cell_type": "code",
   "execution_count": 13,
   "metadata": {
    "execution": {
     "iopub.execute_input": "2022-06-27T12:03:56.602315Z",
     "iopub.status.busy": "2022-06-27T12:03:56.602069Z",
     "iopub.status.idle": "2022-06-27T12:03:56.609504Z",
     "shell.execute_reply": "2022-06-27T12:03:56.608449Z",
     "shell.execute_reply.started": "2022-06-27T12:03:56.602292Z"
    }
   },
   "outputs": [],
   "source": [
    "def train(model, device, train_loader, optimizer, epoch):\n",
    "    log_interval = 10\n",
    "    loss_func = CrossEntropyLoss()\n",
    "    model.train()\n",
    "    passed = 0\n",
    "    for batch_idx, (data, target) in enumerate(train_loader):\n",
    "        #data = data.repeat(1, 1, 1, 1)\n",
    "        data, target = data.to(device), target.to(device)\n",
    "        optimizer.zero_grad()\n",
    "        output = model(data)\n",
    "        loss = loss_func(output, target)\n",
    "        loss.backward()\n",
    "        optimizer.step()\n",
    "        passed += len(data)\n",
    "        if batch_idx % log_interval == 0:\n",
    "            print('Train Epoch: {} [{}/{} ({:.0f}%)]\\tLoss: {:.6f}'.format(\n",
    "                epoch, passed, len(train_loader.dataset),\n",
    "                100. * batch_idx / len(train_loader), loss.item()))"
   ]
  },
  {
   "cell_type": "code",
   "execution_count": 14,
   "metadata": {
    "execution": {
     "iopub.execute_input": "2022-06-27T12:03:56.627587Z",
     "iopub.status.busy": "2022-06-27T12:03:56.627055Z",
     "iopub.status.idle": "2022-06-27T12:03:56.635328Z",
     "shell.execute_reply": "2022-06-27T12:03:56.634118Z",
     "shell.execute_reply.started": "2022-06-27T12:03:56.627549Z"
    }
   },
   "outputs": [],
   "source": [
    "def valid(model, device, test_loader):\n",
    "    model.eval()\n",
    "    test_loss = 0\n",
    "    correct = 0\n",
    "    loss_func = CrossEntropyLoss()\n",
    "    with torch.no_grad():\n",
    "        for data, target in test_loader:\n",
    "            #data = data.repeat(1, 1, 1, 1)\n",
    "            data, target = data.to(device), target.to(device)\n",
    "            output = model(data)\n",
    "            test_loss += loss_func(output, target)\n",
    "            pred = output.argmax(dim=1, keepdim=True)  # get the index of the max log-probability\n",
    "            correct += pred.eq(target.view_as(pred)).sum().item()\n",
    "\n",
    "    test_loss /= len(test_loader)\n",
    "\n",
    "    print('\\nTest set: Average loss: {:.4f}, Accuracy: {}/{} ({:.0f}%)\\n'.format(\n",
    "        test_loss, correct, len(test_loader.dataset),\n",
    "        100. * correct / len(test_loader.dataset)))"
   ]
  },
  {
   "cell_type": "code",
   "execution_count": 15,
   "metadata": {
    "execution": {
     "iopub.execute_input": "2022-06-27T12:03:56.672922Z",
     "iopub.status.busy": "2022-06-27T12:03:56.672269Z",
     "iopub.status.idle": "2022-06-27T12:03:59.238228Z",
     "shell.execute_reply": "2022-06-27T12:03:59.236741Z",
     "shell.execute_reply.started": "2022-06-27T12:03:56.672885Z"
    }
   },
   "outputs": [],
   "source": [
    "def main():\n",
    "    batch_size = 100\n",
    "    learning_rate = 1.0\n",
    "    reduce_lr_gamma = 0.7\n",
    "    epochs = 0\n",
    "    device = torch.device(\"cuda\" if torch.cuda.is_available() else \"cpu\")\n",
    "    print('Device: {} Epochs: {} Batch size: {}'.format(device, epochs, batch_size))\n",
    "\n",
    "    kwargs = {'batch_size': batch_size}\n",
    "    if torch.cuda.is_available():\n",
    "        kwargs.update({'num_workers': 2, 'pin_memory': True})\n",
    "\n",
    "    transform = A.Compose(\n",
    "        [\n",
    "        A.Resize(128, 128),\n",
    "        A.Normalize(mean=(0.6166, 0.4851, 0.5957,), std=(0.3961, 0.4449, 0.3656,)),\n",
    "        ToTensorV2(),\n",
    "        ], p=1.0)\n",
    "    \n",
    "    full_df = pd.read_csv('../input/mlab4/train.csv')\n",
    "    test_df = pd.read_csv('../input/mlab4/test_png.csv')\n",
    "    \n",
    "    le = preprocessing.LabelEncoder()\n",
    "    full_df['answer'] = le.fit_transform(full_df['answer'])\n",
    "    \n",
    "    full_dataset = DatasetSpec(full_df, '../input/mlab4/train', transform=transform)\n",
    "    train_size = int(0.8 * len(full_dataset))\n",
    "    valid_size = len(full_dataset) - train_size\n",
    "    train_dataset, valid_dataset = torch.utils.data.random_split(full_dataset, [train_size, valid_size])\n",
    "    \n",
    "    test_dataset = DatasetSpec(test_df, '../input/mlab4/test', transform=transform)\n",
    "    print('Length train: {} Length valid: {} Length test: {}'.format(len(train_dataset), len(valid_dataset), len(test_dataset)))\n",
    "    \n",
    "    train_loader = DataLoader(train_dataset, shuffle=True, **kwargs)\n",
    "    valid_loader = DataLoader(valid_dataset, shuffle=True, **kwargs)\n",
    "    test_loader = DataLoader(test_dataset, shuffle=False, **kwargs)\n",
    "    print('Number of train batches: {} Number of valid batches: {} Number of test batches: {}'.format(len(train_loader), len(valid_loader), len(test_loader)))\n",
    "    \n",
    "    model = mobilenet_v2(pretrained=True)\n",
    "    model.classifier[1] = torch.nn.Linear(in_features=model.classifier[1].in_features, out_features=10)\n",
    "    model.to(device)\n",
    "    optimizer = optim.Adadelta(model.parameters(), lr=learning_rate)\n",
    "\n",
    "    scheduler = StepLR(optimizer, step_size=1, gamma=reduce_lr_gamma)\n",
    "    for epoch in range(1, epochs + 1):\n",
    "        train(model, device, train_loader, optimizer, epoch)\n",
    "        valid(model, device, valid_loader)\n",
    "        scheduler.step()\n",
    "        \n",
    "    torch.save(model.state_dict(), \"trained_model.pt\")\n",
    "\n",
    "    # Final prediction\n",
    "    submission = pd.read_csv('../input/mlab4/test_wav.csv')\n",
    "    predictions = []\n",
    "    for data, target in test_loader:\n",
    "        data = data.to(device)\n",
    "        output = model(data)\n",
    "        predictions += output.argmax(dim=1, keepdim=True).tolist()\n",
    "    submission['answer'] = le.inverse_transform(predictions)\n",
    "    submission.to_csv('submission.csv', index=False)\n",
    "    print('Submission saved in: {}'.format('submission.csv'))\n",
    "\n",
    "\n",
    "if __name__ == '__main__':\n",
    "    main()"
   ]
  }
 ],
 "metadata": {
  "kernelspec": {
   "display_name": "Python 3 (ipykernel)",
   "language": "python",
   "name": "python3"
  },
  "language_info": {
   "codemirror_mode": {
    "name": "ipython",
    "version": 3
   },
   "file_extension": ".py",
   "mimetype": "text/x-python",
   "name": "python",
   "nbconvert_exporter": "python",
   "pygments_lexer": "ipython3",
   "version": "3.9.13"
  }
 },
 "nbformat": 4,
 "nbformat_minor": 4
}
